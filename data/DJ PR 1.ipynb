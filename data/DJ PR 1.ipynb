{
 "cells": [
  {
   "cell_type": "code",
   "execution_count": 1,
   "metadata": {
    "collapsed": true
   },
   "outputs": [],
   "source": [
    "import pandas as pd\n",
    "import numpy as np\n",
    "df = pd.read_csv('Water_Quality_complaints.csv')\n",
    "aa = df[['Unique Key','Created Date','Closed Date','Descriptor','Borough','Status','Resolution Action Updated Date']]\n",
    "q1a=aa['Descriptor'].value_counts()"
   ]
  },
  {
   "cell_type": "code",
   "execution_count": 2,
   "metadata": {
    "collapsed": false
   },
   "outputs": [
    {
     "name": "stdout",
     "output_type": "stream",
     "text": [
      "Question 1. The five most request descriptors of complains are: \n",
      "Cloudy Or Milky Water (QB1)                              1376\n",
      "Clear Water With Other Particles (Use Comments) (QEZ)     995\n",
      "Taste/Odor, Chemical (QA2)                                912\n",
      "unknown odor/taste in drinking water (QA6)                820\n",
      "Taste/Odor, Chlorine (QA1)                                771\n",
      "Name: Descriptor, dtype: int64\n"
     ]
    }
   ],
   "source": [
    "print \"Question 1. The five most request descriptors of complains are: \\n\", q1a.head(5)"
   ]
  },
  {
   "cell_type": "code",
   "execution_count": 3,
   "metadata": {
    "collapsed": true
   },
   "outputs": [],
   "source": [
    "q1b = aa.groupby('Borough')['Descriptor'].value_counts()"
   ]
  },
  {
   "cell_type": "code",
   "execution_count": 4,
   "metadata": {
    "collapsed": false
   },
   "outputs": [
    {
     "name": "stdout",
     "output_type": "stream",
     "text": [
      "Question 1b. What are they by borough? \n",
      "Borough        Borough        Descriptor                                           \n",
      "BRONX          BRONX          Cloudy Or Milky Water (QB1)                              207\n",
      "                              Clear Water With Other Particles (Use Comments) (QEZ)    140\n",
      "                              unknown odor/taste in drinking water (QA6)               121\n",
      "                              Taste/Odor, Sewer (QA5)                                  108\n",
      "                              Taste/Odor, Bitter/Metallic (QA3)                         96\n",
      "BROOKLYN       BROOKLYN       Cloudy Or Milky Water (QB1)                              312\n",
      "                              Clear Water With Other Particles (Use Comments) (QEZ)    292\n",
      "                              Taste/Odor, Chemical (QA2)                               260\n",
      "                              Taste/Odor, Chlorine (QA1)                               235\n",
      "                              unknown odor/taste in drinking water (QA6)               229\n",
      "MANHATTAN      MANHATTAN      Cloudy Or Milky Water (QB1)                              328\n",
      "                              Taste/Odor, Chemical (QA2)                               233\n",
      "                              Clear Water With Other Particles (Use Comments) (QEZ)    214\n",
      "                              unknown odor/taste in drinking water (QA6)               191\n",
      "                              Taste/Odor, Bitter/Metallic (QA3)                        185\n",
      "QUEENS         QUEENS         Cloudy Or Milky Water (QB1)                              409\n",
      "                              Clear Water With Other Particles (Use Comments) (QEZ)    275\n",
      "                              No Sampling Required, Requested Information (QG2)        232\n",
      "                              Taste/Odor, Chemical (QA2)                               223\n",
      "                              Taste/Odor, Chlorine (QA1)                               213\n",
      "STATEN ISLAND  STATEN ISLAND  Cloudy Or Milky Water (QB1)                              120\n",
      "                              Taste/Odor, Chemical (QA2)                               100\n",
      "                              Taste/Odor, Musty/Stale (QA4)                             86\n",
      "                              unknown odor/taste in drinking water (QA6)                79\n",
      "                              Taste/Odor, Chlorine (QA1)                                78\n",
      "Name: Descriptor, dtype: int64\n"
     ]
    }
   ],
   "source": [
    "print \"Question 1b. What are they by borough? \\n\", q1b.groupby(level=0).nlargest(5)"
   ]
  },
  {
   "cell_type": "code",
   "execution_count": 6,
   "metadata": {
    "collapsed": false
   },
   "outputs": [
    {
     "name": "stdout",
     "output_type": "stream",
     "text": [
      "Question 2. Yes, the number of complains has changed over time, it varies by month and has an upward trend by year. See Plot.\n"
     ]
    }
   ],
   "source": [
    "print \"Question 2. Yes, the number of complains has changed over time, it varies by month and has an upward trend by year. See Plot.\""
   ]
  },
  {
   "cell_type": "code",
   "execution_count": 10,
   "metadata": {
    "collapsed": false
   },
   "outputs": [],
   "source": [
    "pd.options.mode.chained_assignment = None #Probably not Kosher, but it should work here"
   ]
  },
  {
   "cell_type": "code",
   "execution_count": 11,
   "metadata": {
    "collapsed": false
   },
   "outputs": [],
   "source": [
    "aa['Created Date'] = pd.to_datetime(df['Created Date'])\n",
    "aa['Closed Date'] = pd.to_datetime(df['Closed Date'])\n",
    "aa['Wait'] = aa['Created Date'] - aa['Closed Date']"
   ]
  },
  {
   "cell_type": "code",
   "execution_count": 12,
   "metadata": {
    "collapsed": true
   },
   "outputs": [],
   "source": [
    "aa['Wait'] = aa['Wait']*-1"
   ]
  },
  {
   "cell_type": "code",
   "execution_count": 13,
   "metadata": {
    "collapsed": true
   },
   "outputs": [],
   "source": [
    "aa['Wait'] = aa['Wait']/ np.timedelta64(1,'D')"
   ]
  },
  {
   "cell_type": "code",
   "execution_count": 14,
   "metadata": {
    "collapsed": false
   },
   "outputs": [
    {
     "name": "stdout",
     "output_type": "stream",
     "text": [
      "Question 3. I created metric \"Wait\" as in the wait time between the creation and close date. I expect to the distribution to have a positive skew, meaning a relatively normal distribution with a right tail of occurances with high wait times. This is generally the distrubution of MTTR I see for customers at my company.\n"
     ]
    }
   ],
   "source": [
    "print \"Question 3. I created metric \\\"Wait\\\" as in the wait time between the creation and close date. I expect to the distribution to have a positive skew, meaning a relatively normal distribution with a right tail of occurances with high wait times. This is generally the distrubution of MTTR I see for customers at my company.\""
   ]
  },
  {
   "cell_type": "code",
   "execution_count": 18,
   "metadata": {
    "collapsed": false
   },
   "outputs": [
    {
     "name": "stdout",
     "output_type": "stream",
     "text": [
      "Question 4. The mean is: 17.6599517526 days and the median is: 7.04097222222 days. This is relatively similar to my expectations.\n"
     ]
    }
   ],
   "source": [
    "print\"Question 4. The mean is:\", aa[\"Wait\"].mean(), \"days and the median is:\", aa[\"Wait\"].median(), \"days. This is relatively similar to my expectations.\""
   ]
  },
  {
   "cell_type": "code",
   "execution_count": 19,
   "metadata": {
    "collapsed": true
   },
   "outputs": [],
   "source": [
    "aa.to_excel('DJ PR1.xls')"
   ]
  },
  {
   "cell_type": "code",
   "execution_count": 21,
   "metadata": {
    "collapsed": false,
    "scrolled": true
   },
   "outputs": [
    {
     "name": "stdout",
     "output_type": "stream",
     "text": [
      "Question 5. I chose the median as the best measure of central tendency. The mean is more useful when trying to understand the intensity of all the data points and the median is more useful when trying to get a geral picture of what is happening in one measure. For this case I chose the median because it is less influenced by outlier wait times.\n"
     ]
    }
   ],
   "source": [
    "print \"Question 5. I chose the median as the best measure of central tendency. The mean is more useful when trying to understand the intensity of all the data points and the median is more useful when trying to get a geral picture of what is happening for a general case in one measure. For this case I chose the median because it is less influenced by outlier wait times.\""
   ]
  },
  {
   "cell_type": "code",
   "execution_count": 23,
   "metadata": {
    "collapsed": false
   },
   "outputs": [
    {
     "name": "stdout",
     "output_type": "stream",
     "text": [
      "Question 6. See plots \"Change in Median Wait Time\" and \"Change in Median Wait Time By Borough\". The median wait time fluctuated year over year, but by no more than 2 weeks. A 2 week shift is less jarring than the number of wait times that exceded a month in any given year. Visually, the median wait time did not consistently increase or descrease year over year. There also no trend over time for any specific borough. However, it is interesting that the widest distribution of wait times is found in Staten Island\n"
     ]
    }
   ],
   "source": [
    "print \"Question 6. See plots \\\"Change in Median Wait Time\\\" and \\\"Change in Median Wait Time By Borough\\\". The median wait time fluctuated year over year, but by no more than 2 weeks. A 2 week shift is less jarring than the number of wait times that exceded a month in any given year. Visually, the median wait time did not consistently increase or descrease year over year. There also no trend over time for any specific borough. However, it is interesting that the widest distribution of wait times is found in Staten Island\" "
   ]
  },
  {
   "cell_type": "code",
   "execution_count": 26,
   "metadata": {
    "collapsed": false
   },
   "outputs": [
    {
     "name": "stdout",
     "output_type": "stream",
     "text": [
      "Question 7. When a complaint is issued there are a number of factors that may affect the wait time: time and date, discription, location, number of complaints currently being investigated. To predict the wait time for a new complaint I would build and test a resgressive model based on the available factors. Perhaps I find out that the only factor that is associated with a change in wait time is the type of descriptor, then based on the descriptor alone I could provide a range of dates of which the problem would likely be solved.\n"
     ]
    }
   ],
   "source": [
    "print \"Question 7. When a complaint is issued there are a number of factors that may affect the wait time: time and date, discription, location, number of complaints currently being investigated. To predict the wait time for a new complaint I would build and test a resgressive model based on the available factors. Perhaps I find out that the only factor that is associated with a change in wait time is the type of descriptor, then based on the descriptor alone I could provide a range of dates of which the problem would likely be solved.\""
   ]
  },
  {
   "cell_type": "code",
   "execution_count": 28,
   "metadata": {
    "collapsed": false
   },
   "outputs": [
    {
     "name": "stdout",
     "output_type": "stream",
     "text": [
      "Question 8. The median wait time is much lower than the mean because there are a small number of complaints with very long wait times. My recommendations would include using resources to tracking more factors to better identify the cause of these outlier wait times. Once they have identified the factors they would be able to track complaints related to that particular factor. Lets organisms surfacing in the water in Queens and there is a long wait time. If they were capturing data like the number of experts equipted to investigate an issue of that nature they might find that there is a shortage of exports available in Queens. That is a hypothetical situation, however tracking data to identify the factors that cause excessive wait times will be more effective than speeding up wait times that are ~1 week currently.\n"
     ]
    }
   ],
   "source": [
    "print \"Question 8. The median wait time is much lower than the mean because there are a small number of complaints with very long wait times. My recommendations would include using resources to tracking more factors to better identify the cause of these outlier wait times. Once they have identified the factors they would be able to track complaints related to that particular factor. Lets say there are organisms surfacing in the water in Queens and there is also a long wait time. If they were capturing data like the number of experts equipted to investigate an issue of that nature they might find that there is a shortage of experts available in Queens. That is a hypothetical situation, however tracking data to identify the factors that cause excessive wait times will be more effective than speeding up wait times that are ~1 week currently.\" "
   ]
  },
  {
   "cell_type": "code",
   "execution_count": 30,
   "metadata": {
    "collapsed": false
   },
   "outputs": [
    {
     "name": "stdout",
     "output_type": "stream",
     "text": [
      "Please below for Tableau:\n"
     ]
    },
    {
     "data": {
      "text/html": [
       "<a href=\"https://public.tableau.com/profile/paul6326#!/vizhome/DowJonesV1/DowJonesV1\" target=\"_blank\"> Link to Visualisations</a>"
      ],
      "text/plain": [
       "<IPython.core.display.HTML object>"
      ]
     },
     "execution_count": 30,
     "metadata": {},
     "output_type": "execute_result"
    }
   ],
   "source": [
    "print \"Please below for Tableau:\"\n",
    "from IPython.core.display import HTML\n",
    "HTML('<a href=\"https://public.tableau.com/profile/paul6326#!/vizhome/DowJonesV1/DowJonesV1\" target=\"_blank\"> Link to Visualisations</a>')"
   ]
  },
  {
   "cell_type": "code",
   "execution_count": null,
   "metadata": {
    "collapsed": true
   },
   "outputs": [],
   "source": []
  }
 ],
 "metadata": {
  "kernelspec": {
   "display_name": "Python [Root]",
   "language": "python",
   "name": "Python [Root]"
  },
  "language_info": {
   "codemirror_mode": {
    "name": "ipython",
    "version": 2
   },
   "file_extension": ".py",
   "mimetype": "text/x-python",
   "name": "python",
   "nbconvert_exporter": "python",
   "pygments_lexer": "ipython2",
   "version": "2.7.12"
  }
 },
 "nbformat": 4,
 "nbformat_minor": 0
}
